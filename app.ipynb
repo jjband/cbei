{
 "cells": [
  {
   "cell_type": "code",
   "execution_count": 4,
   "metadata": {},
   "outputs": [],
   "source": [
    "# count = 0\n",
    "# n = int(input())\n",
    "\n",
    "# for _ in range(n):\n",
    "#     a = input()\n",
    "#     l = [a[0]]\n",
    "\n",
    "#     for i in range(1, len(a)):\n",
    "#         if a[i] == a[i-1]:\n",
    "#             continue\n",
    "#         if a[i] in l:\n",
    "#             break\n",
    "#         l.append(a[i])\n",
    "#     else:\n",
    "#         count += 1\n",
    "# print(count)\n",
    "        \n",
    "\n",
    "    "
   ]
  },
  {
   "cell_type": "code",
   "execution_count": 5,
   "metadata": {},
   "outputs": [
    {
     "data": {
      "text/plain": [
       "(True, '8011351')"
      ]
     },
     "execution_count": 5,
     "metadata": {},
     "output_type": "execute_result"
    }
   ],
   "source": [
    "# import requests\n",
    "# import pprint\n",
    "\n",
    "# def get_sc_code(name):\n",
    "#     param={\"SCHUL_NM\":name,\n",
    "#           \"ATPT_OFDCD_SC_CODE\":\"M10\",\n",
    "#           \"TYPE\":\"JSON\"}\n",
    "#     res = requests.get(\"https://open.neis.go.kr/hub/schoolInfo\",params=param)\n",
    "#     data = res.json()\n",
    "#     r=True\n",
    "#     try:\n",
    "#         data = data[\"schoolInfo\"][1][\"row\"][0][\"SD_SCHUL_CODE\"]\n",
    "#     except:\n",
    "#         print(\"Error\")\n",
    "#         r=False\n",
    "#     return r,data\n",
    "# get_sc_code(\"소로\")"
   ]
  },
  {
   "cell_type": "code",
   "execution_count": 6,
   "metadata": {},
   "outputs": [
    {
     "name": "stdout",
     "output_type": "stream",
     "text": [
      "['귀리밥', '흰죽(자율)', '꽃게두부된장국', '곤드레나물볶음', '오리불고기', '배추김치', '배']\n"
     ]
    }
   ],
   "source": [
    "# import requests\n",
    "# def get_sc_code(name):\n",
    "#     param={\"SCHUL_NM\":name,\n",
    "#         \"ATPT_OFCDC_SC_CODE\":\"M10\",\n",
    "#         \"TYPE\":\"json\"}\n",
    "#     res = requests.get(\"https://open.neis.go.kr/hub/schoolInfo\",params=param)\n",
    "#     data = res.json()\n",
    "#     r = True\n",
    "#     try:\n",
    "#         data = data[\"schoolInfo\"][1][\"row\"][0][\"SD_SCHUL_CODE\"]\n",
    "#     except:\n",
    "#         print(\"Error\")\n",
    "#         r = False\n",
    "#     return r,data\n",
    "# def get_meal(code,day):\n",
    "#     param={\"TYPE\":\"json\",\n",
    "#            \"ATPT_OFCDC_SC_CODE\":\"M10\",\n",
    "#            \"SD_SCHUL_CODE\":code,\n",
    "#            \"MMEAL_SC_CODE\":\"2\",\n",
    "#            \"MLSV_YMD\":day}\n",
    "#     res = requests.get(\"https://open.neis.go.kr/hub/mealServiceDietInfo\",params=param)\n",
    "#     data=res.json()\n",
    "#     data = data[\"mealServiceDietInfo\"][1][\"row\"][0][\"DDISH_NM\"]\n",
    "#     data = data.split(\"<br/>\")\n",
    "#     newdata = []\n",
    "#     nnewdata = []\n",
    "#     for m in data:\n",
    "#         newdata.append(m.split(\"  \")[0])\n",
    "#     for m in newdata:\n",
    "#         nnewdata.append(m.split(\"**\")[0])\n",
    "#     return nnewdata\n",
    "# r, code = get_sc_code(\"소로\")\n",
    "# if r==True:\n",
    "#     print(get_meal(code, 20230609))\n",
    "\n"
   ]
  },
  {
   "cell_type": "code",
   "execution_count": null,
   "metadata": {},
   "outputs": [],
   "source": [
    "# import PySimpleGUI as sg\n",
    "# layout = [\n",
    "#     [sg.Text(\"hello world!\")],\n",
    "#     [sg.Button(\"리얼?\", key=\"-버튼1-\")],\n",
    "#     [sg.Button(\"리얼?\", key=\"-버튼2-\")],   #리얼? 이라는 버튼의 이름이 똑같음 그래서 리얼?을 누르면 옆에 있는 버튼1,  버튼2가  출력되게 된다\n",
    "    \n",
    "# ]\n",
    "# window = sg.Window(\"CBEI\",layout)\n",
    "# while True:\n",
    "#     event, values = window.read()\n",
    "#     print(event, values)\n",
    "#     if event== sg.WIN_CLOSED:\n",
    "#         break\n",
    "# window.close()"
   ]
  },
  {
   "cell_type": "code",
   "execution_count": null,
   "metadata": {},
   "outputs": [],
   "source": [
    "import requests\n",
    "def get_sc_code(name):\n",
    "    param={\"SCHUL_NM\":name,\n",
    "        \"ATPT_OFCDC_SC_CODE\":\"M10\",\n",
    "        \"TYPE\":\"json\"}\n",
    "    res = requests.get(\"https://open.neis.go.kr/hub/schoolInfo\",params=param)\n",
    "    data = res.json()\n",
    "    r = True\n",
    "    try:\n",
    "        data = data[\"schoolInfo\"][1][\"row\"][0][\"SD_SCHUL_CODE\"]\n",
    "    except:\n",
    "        print(\"없음 수곸ㅋ\")\n",
    "        r = False\n",
    "    return r,data\n",
    "def get_meal(code,day):\n",
    "    param={\"TYPE\":\"json\",\n",
    "           \"ATPT_OFCDC_SC_CODE\":\"M10\",\n",
    "           \"SD_SCHUL_CODE\":code,\n",
    "           \"MMEAL_SC_CODE\":\"2\",\n",
    "           \"MLSV_YMD\":day}\n",
    "    res = requests.get(\"https://open.neis.go.kr/hub/mealServiceDietInfo\",params=param)\n",
    "    data=res.json()\n",
    "    data = data[\"mealServiceDietInfo\"][1][\"row\"][0][\"DDISH_NM\"]\n",
    "    data = data.split(\"<br/>\")\n",
    "    newdata = []\n",
    "    nnewdata = []\n",
    "    for m in data:\n",
    "        newdata.append(m.split(\" ㅇ \")[0])\n",
    "    for m in newdata:\n",
    "        nnewdata.append(m.split(\"**\")[0])\n",
    "    return nnewdata"
   ]
  },
  {
   "cell_type": "code",
   "execution_count": null,
   "metadata": {},
   "outputs": [],
   "source": [
    "import PySimpleGUI as sg\n",
    "layout = [\n",
    "    [sg.Text(\"학교이름을 입력하세요.\"),sg.Input(\"\", key=\"-scname-\")],\n",
    "    [sg.Text(\"날짜.\"),sg.Input(\"\", key=\"-date-\")],\n",
    "    [sg.Button(\"찾기\", key=\"-버튼1-\")],\n",
    "    [sg.Multiline(\"데이터 없음\", key=\"-txt-\",expand_x=True, size=(0,5))],\n",
    "    \n",
    "]\n",
    "window = sg.Window(\"학교찾기 서비스\",layout)\n",
    "while True:\n",
    "    event, values = window.read()\n",
    "    print(event, values)\n",
    "    if event == \"-버튼2-\":\n",
    "        window[\"-txt-\"].update(\"이걸로 바꿔라!\")\n",
    "    if event== sg.WIN_CLOSED:\n",
    "        break\n",
    "    if event == \"-버튼1-\":\n",
    "        scname = values[\"-scname-\"]\n",
    "        d = values[\"-date-\"]\n",
    "        r, data = get_sc_code(scname)\n",
    "        if r == True:\n",
    "            meals = get_meal(data,d)\n",
    "            window[\"-txt-\"].update(\"\\n\".join(meals))\n",
    "\n",
    "window.close()"
   ]
  },
  {
   "cell_type": "code",
   "execution_count": null,
   "metadata": {},
   "outputs": [],
   "source": []
  }
 ],
 "metadata": {
  "kernelspec": {
   "display_name": "Python 3",
   "language": "python",
   "name": "python3"
  },
  "language_info": {
   "codemirror_mode": {
    "name": "ipython",
    "version": 3
   },
   "file_extension": ".py",
   "mimetype": "text/x-python",
   "name": "python",
   "nbconvert_exporter": "python",
   "pygments_lexer": "ipython3",
   "version": "3.10.4"
  },
  "orig_nbformat": 4
 },
 "nbformat": 4,
 "nbformat_minor": 2
}
