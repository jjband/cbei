{
 "cells": [
  {
   "cell_type": "code",
   "execution_count": 3,
   "metadata": {},
   "outputs": [
    {
     "name": "stdout",
     "output_type": "stream",
     "text": [
      "Requirement already satisfied: flet in .\\.venv\\lib\\site-packages (0.7.4)\n",
      "Requirement already satisfied: flet-core==0.7.4 in .\\.venv\\lib\\site-packages (from flet) (0.7.4)\n",
      "Requirement already satisfied: httpx<0.24.0,>=0.23.3 in .\\.venv\\lib\\site-packages (from flet) (0.23.3)\n",
      "Requirement already satisfied: oauthlib<4.0.0,>=3.2.2 in .\\.venv\\lib\\site-packages (from flet) (3.2.2)\n",
      "Requirement already satisfied: packaging<24.0,>=23.0 in .\\.venv\\lib\\site-packages (from flet) (23.1)\n",
      "Requirement already satisfied: watchdog<3.0.0,>=2.2.1 in .\\.venv\\lib\\site-packages (from flet) (2.3.1)\n",
      "Requirement already satisfied: websocket-client<2.0.0,>=1.4.2 in .\\.venv\\lib\\site-packages (from flet) (1.6.1)\n",
      "Requirement already satisfied: websockets<11.0,>=10.4 in .\\.venv\\lib\\site-packages (from flet) (10.4)\n",
      "Requirement already satisfied: repath<0.10.0,>=0.9.0 in .\\.venv\\lib\\site-packages (from flet-core==0.7.4->flet) (0.9.0)\n",
      "Requirement already satisfied: certifi in .\\.venv\\lib\\site-packages (from httpx<0.24.0,>=0.23.3->flet) (2023.5.7)\n",
      "Requirement already satisfied: httpcore<0.17.0,>=0.15.0 in .\\.venv\\lib\\site-packages (from httpx<0.24.0,>=0.23.3->flet) (0.16.3)\n",
      "Requirement already satisfied: rfc3986[idna2008]<2,>=1.3 in .\\.venv\\lib\\site-packages (from httpx<0.24.0,>=0.23.3->flet) (1.5.0)\n",
      "Requirement already satisfied: sniffio in .\\.venv\\lib\\site-packages (from httpx<0.24.0,>=0.23.3->flet) (1.3.0)\n",
      "Requirement already satisfied: h11<0.15,>=0.13 in .\\.venv\\lib\\site-packages (from httpcore<0.17.0,>=0.15.0->httpx<0.24.0,>=0.23.3->flet) (0.14.0)\n",
      "Requirement already satisfied: anyio<5.0,>=3.0 in .\\.venv\\lib\\site-packages (from httpcore<0.17.0,>=0.15.0->httpx<0.24.0,>=0.23.3->flet) (3.7.0)\n",
      "Requirement already satisfied: six>=1.9.0 in .\\.venv\\lib\\site-packages (from repath<0.10.0,>=0.9.0->flet-core==0.7.4->flet) (1.16.0)\n",
      "Requirement already satisfied: idna in .\\.venv\\lib\\site-packages (from rfc3986[idna2008]<2,>=1.3->httpx<0.24.0,>=0.23.3->flet) (3.4)\n",
      "Requirement already satisfied: exceptiongroup in .\\.venv\\lib\\site-packages (from anyio<5.0,>=3.0->httpcore<0.17.0,>=0.15.0->httpx<0.24.0,>=0.23.3->flet) (1.1.1)\n",
      "Note: you may need to restart the kernel to use updated packages.\n"
     ]
    }
   ],
   "source": [
    "%pip install flet"
   ]
  },
  {
   "cell_type": "code",
   "execution_count": 5,
   "metadata": {},
   "outputs": [],
   "source": [
    "import flet as ft"
   ]
  },
  {
   "cell_type": "code",
   "execution_count": 7,
   "metadata": {},
   "outputs": [],
   "source": [
    "def main(page:ft.Page):\n",
    "    page.title = \"felt hello\"\n",
    "    page.update()\n",
    "\n",
    "ft.app(target=main)"
   ]
  }
 ],
 "metadata": {
  "kernelspec": {
   "display_name": ".venv",
   "language": "python",
   "name": "python3"
  },
  "language_info": {
   "codemirror_mode": {
    "name": "ipython",
    "version": 3
   },
   "file_extension": ".py",
   "mimetype": "text/x-python",
   "name": "python",
   "nbconvert_exporter": "python",
   "pygments_lexer": "ipython3",
   "version": "3.9.6"
  },
  "orig_nbformat": 4
 },
 "nbformat": 4,
 "nbformat_minor": 2
}
