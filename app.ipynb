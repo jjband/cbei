{
 "cells": [
  {
   "cell_type": "code",
   "execution_count": 28,
   "metadata": {},
   "outputs": [
    {
     "data": {
      "text/plain": [
       "[[0, 0, 0, 0, 0],\n",
       " [0, 0, 0, 0, 0],\n",
       " [0, 0, 0, 10, 0],\n",
       " [0, 0, 0, 0, 0],\n",
       " [0, 0, 0, 0, 0],\n",
       " [0, 0, 0, 0, 0],\n",
       " [0, 0, 0, 0, 0],\n",
       " [0, 0, 0, 0, 0],\n",
       " [0, 0, 0, 0, 0],\n",
       " [0, 0, 0, 0, 0]]"
      ]
     },
     "execution_count": 28,
     "metadata": {},
     "output_type": "execute_result"
    }
   ],
   "source": [
    "l = [[0 for _ in range(5)]for _ in range(10)]\n",
    "l[2][3] = 10\n",
    "l"
   ]
  },
  {
   "cell_type": "code",
   "execution_count": 19,
   "metadata": {},
   "outputs": [
    {
     "name": "stdout",
     "output_type": "stream",
     "text": [
      "AE\n"
     ]
    }
   ],
   "source": [
    "for _ in input():\n",
    "    a = list(input())\n",
    "    print(a[0], a[-1], sep=\"\")\n"
   ]
  },
  {
   "cell_type": "code",
   "execution_count": 32,
   "metadata": {},
   "outputs": [
    {
     "name": "stdout",
     "output_type": "stream",
     "text": [
      "444\n",
      "666\n",
      "565\n"
     ]
    }
   ],
   "source": [
    "# https://www.acmicpc.net/submit/2738\n",
    "\n",
    "ll = []\n",
    "rl = []\n",
    "\n",
    "n,m = map(int, input().split())\n",
    "#n개의 줄에 m개의 ㅣ원소\n",
    "\n",
    "for _ in range(n):\n",
    "    t = list(map(int, input().split()))\n",
    "    ll.append(t)\n",
    "\n",
    "for l in ll:\n",
    "    r = list(map(int, input().split()))\n",
    "    for i in zip(l,r):\n",
    "        print(sum(i), end=\" \")\n",
    "    print()\n",
    "\n"
   ]
  },
  {
   "cell_type": "code",
   "execution_count": 36,
   "metadata": {},
   "outputs": [
    {
     "data": {
      "text/plain": [
       "3"
      ]
     },
     "execution_count": 36,
     "metadata": {},
     "output_type": "execute_result"
    }
   ],
   "source": [
    "# https://www.acmicpc.net/submit/2566\n",
    "#m =[]\n",
    "#for i in range(9):\n",
    "    #m.append(list(map(int, input().split())))\n",
    "\n",
    "#방법2\n",
    "m = [[ int(i)for i in input().split()] for i in  range(9)]\n",
    "\n",
    "\n",
    "ans = m[0][0]\n",
    "x = 0\n",
    "y = 0\n",
    "for h in range(9):\n",
    "    for w in range(9):\n",
    "        if ans < m[h][w]:\n",
    "            ans = m[h][w]\n",
    "            x = w\n",
    "            y = h\n",
    "print(ans)\n",
    "print(y+1, x+1)\n",
    "        "
   ]
  },
  {
   "cell_type": "code",
   "execution_count": null,
   "metadata": {},
   "outputs": [],
   "source": []
  }
 ],
 "metadata": {
  "kernelspec": {
   "display_name": "Python 3",
   "language": "python",
   "name": "python3"
  },
  "language_info": {
   "codemirror_mode": {
    "name": "ipython",
    "version": 3
   },
   "file_extension": ".py",
   "mimetype": "text/x-python",
   "name": "python",
   "nbconvert_exporter": "python",
   "pygments_lexer": "ipython3",
   "version": "3.10.4"
  },
  "orig_nbformat": 4
 },
 "nbformat": 4,
 "nbformat_minor": 2
}
